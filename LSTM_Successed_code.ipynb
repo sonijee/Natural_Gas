{
  "cells": [
    {
      "cell_type": "code",
      "execution_count": null,
      "metadata": {
        "id": "Ll11y4hS_yPM",
        "colab": {
          "base_uri": "https://localhost:8080/"
        },
        "outputId": "2c7df350-395c-420c-80be-40a841f1cb73"
      },
      "outputs": [
        {
          "output_type": "stream",
          "name": "stdout",
          "text": [
            "Mounted at /content/drive\n"
          ]
        }
      ],
      "source": [
        "from google.colab import drive\n",
        "import os\n",
        "drive.mount('/content/drive',force_remount=True)\n",
        "os.chdir('/content/drive/My Drive/')"
      ]
    },
    {
      "cell_type": "code",
      "execution_count": null,
      "metadata": {
        "id": "r-ETREJ4AxI3",
        "colab": {
          "base_uri": "https://localhost:8080/",
          "height": 393
        },
        "outputId": "54a56c64-c4f8-4e5a-b66a-65268fa4008d"
      },
      "outputs": [
        {
          "output_type": "error",
          "ename": "ImportError",
          "evalue": "ignored",
          "traceback": [
            "\u001b[0;31m---------------------------------------------------------------------------\u001b[0m",
            "\u001b[0;31mImportError\u001b[0m                               Traceback (most recent call last)",
            "\u001b[0;32m<ipython-input-211-279e83f1afc6>\u001b[0m in \u001b[0;36m<module>\u001b[0;34m()\u001b[0m\n\u001b[1;32m     11\u001b[0m \u001b[0;32mfrom\u001b[0m \u001b[0msklearn\u001b[0m\u001b[0;34m.\u001b[0m\u001b[0mmetrics\u001b[0m \u001b[0;32mimport\u001b[0m \u001b[0mmean_absolute_error\u001b[0m\u001b[0;34m\u001b[0m\u001b[0;34m\u001b[0m\u001b[0m\n\u001b[1;32m     12\u001b[0m \u001b[0;32mfrom\u001b[0m \u001b[0msklearn\u001b[0m\u001b[0;34m.\u001b[0m\u001b[0mmetrics\u001b[0m \u001b[0;32mimport\u001b[0m \u001b[0mmean_absolute_percentage_error\u001b[0m\u001b[0;34m\u001b[0m\u001b[0;34m\u001b[0m\u001b[0m\n\u001b[0;32m---> 13\u001b[0;31m \u001b[0;32mfrom\u001b[0m \u001b[0msklearn\u001b[0m\u001b[0;34m.\u001b[0m\u001b[0mmetrics\u001b[0m \u001b[0;32mimport\u001b[0m \u001b[0mroot_mean_squared_error\u001b[0m\u001b[0;34m\u001b[0m\u001b[0;34m\u001b[0m\u001b[0m\n\u001b[0m\u001b[1;32m     14\u001b[0m \u001b[0;32mfrom\u001b[0m \u001b[0mscipy\u001b[0m\u001b[0;34m.\u001b[0m\u001b[0mstats\u001b[0m \u001b[0;32mimport\u001b[0m \u001b[0mpearsonr\u001b[0m\u001b[0;34m\u001b[0m\u001b[0;34m\u001b[0m\u001b[0m\n",
            "\u001b[0;31mImportError\u001b[0m: cannot import name 'root_mean_squared_error' from 'sklearn.metrics' (/usr/local/lib/python3.7/dist-packages/sklearn/metrics/__init__.py)",
            "",
            "\u001b[0;31m---------------------------------------------------------------------------\u001b[0;32m\nNOTE: If your import is failing due to a missing package, you can\nmanually install dependencies using either !pip or !apt.\n\nTo view examples of installing some common dependencies, click the\n\"Open Examples\" button below.\n\u001b[0;31m---------------------------------------------------------------------------\u001b[0m\n"
          ],
          "errorDetails": {
            "actions": [
              {
                "action": "open_url",
                "actionText": "Open Examples",
                "url": "/notebooks/snippets/importing_libraries.ipynb"
              }
            ]
          }
        }
      ],
      "source": [
        "import pandas as pd\n",
        "import numpy as np\n",
        "import tensorflow as tf\n",
        "from sklearn.model_selection import train_test_split\n",
        "from matplotlib import pyplot as plt\n",
        "from sklearn.preprocessing import StandardScaler, MinMaxScaler\n",
        "from keras.preprocessing.sequence import TimeseriesGenerator\n",
        "from sklearn.svm import SVR\n",
        "from sklearn.metrics import r2_score\n",
        "from sklearn.metrics import mean_squared_error\n",
        "from sklearn.metrics import mean_absolute_error\n",
        "from sklearn.metrics import mean_absolute_percentage_error\n",
        "from scipy.stats import pearsonr"
      ]
    },
    {
      "cell_type": "code",
      "execution_count": null,
      "metadata": {
        "colab": {
          "base_uri": "https://localhost:8080/"
        },
        "id": "OLyla9mMAYpa",
        "outputId": "69db331d-9593-4a89-8cbd-3ed70879fc19"
      },
      "outputs": [
        {
          "output_type": "stream",
          "name": "stdout",
          "text": [
            "==================================================\n",
            "            Price  Temperature  Population  Export  Consumption\n",
            "Date                                                           \n",
            "2001-01-15   8.17        31.35      283960   25547      2676998\n",
            "2001-02-15   5.61        33.98      284166   26882      2309464\n",
            "2001-03-15   5.23        41.49      284380   32121      2246633\n",
            "2001-04-15   5.19        53.08      284602   23637      1807170\n",
            "2001-05-15   4.19        62.82      284834   28981      1522382 \n",
            "\n"
          ]
        }
      ],
      "source": [
        "df = pd.read_csv(\"/content/drive/MyDrive/Colab Notebooks/d5.csv\",index_col='Date',parse_dates=True)\n",
        "print(\"=\"*50)\n",
        "print(df.head(5),\"\\n\")\n"
      ]
    },
    {
      "cell_type": "code",
      "execution_count": null,
      "metadata": {
        "colab": {
          "base_uri": "https://localhost:8080/"
        },
        "id": "yrL6AUyvgSUd",
        "outputId": "46409afe-0915-4ee9-ac90-b2168dc24dfd"
      },
      "outputs": [
        {
          "output_type": "stream",
          "name": "stdout",
          "text": [
            "Pearsons correlation: -0.690\n"
          ]
        }
      ],
      "source": [
        "from scipy.stats import pearsonr\n",
        "corr, _ = pearsonr(df.Temperature, df.Consumption)\n",
        "print('Pearsons correlation: %.3f' % corr)"
      ]
    },
    {
      "cell_type": "code",
      "execution_count": null,
      "metadata": {
        "colab": {
          "base_uri": "https://localhost:8080/"
        },
        "id": "OKVcVfS-AOnY",
        "outputId": "81bce4bc-8b4a-4380-f8ba-e5685af62bdd"
      },
      "outputs": [
        {
          "output_type": "stream",
          "name": "stdout",
          "text": [
            "Pearsons correlation: 0.512\n"
          ]
        }
      ],
      "source": [
        "corr, _ = pearsonr(df.Population, df.Consumption)\n",
        "print('Pearsons correlation: %.3f' % corr)"
      ]
    },
    {
      "cell_type": "code",
      "execution_count": null,
      "metadata": {
        "colab": {
          "base_uri": "https://localhost:8080/"
        },
        "id": "9mTsVo4Wq6IE",
        "outputId": "7bf9992a-555f-44e1-dae8-d74ae7723603"
      },
      "outputs": [
        {
          "output_type": "stream",
          "name": "stdout",
          "text": [
            "Pearsons correlation: 0.566\n"
          ]
        }
      ],
      "source": [
        "corr, _ = pearsonr(df.Export, df.Consumption)\n",
        "print('Pearsons correlation: %.3f' % corr)"
      ]
    },
    {
      "cell_type": "code",
      "execution_count": null,
      "metadata": {
        "colab": {
          "base_uri": "https://localhost:8080/",
          "height": 543
        },
        "id": "M4shSzuDxh54",
        "outputId": "b480d49e-c9c6-49c1-a9f4-c6938a629cab"
      },
      "outputs": [
        {
          "output_type": "display_data",
          "data": {
            "text/plain": [
              "<Figure size 1080x576 with 2 Axes>"
            ],
            "image/png": "[encoded data removed]"
          },
          "metadata": {
            "needs_background": "light"
          }
        }
      ],
      "source": [
        "from matplotlib import pyplot as plt\n",
        "import seaborn as sns\n",
        "plt.figure(figsize=(15,8))\n",
        "sns.heatmap(df.corr(), annot=True, cmap = 'PuBu')\n",
        "plt.xticks(rotation=90)\n",
        "plt.show()"
      ]
    },
    {
      "cell_type": "code",
      "source": [
        "df.describe()"
      ],
      "metadata": {
        "colab": {
          "base_uri": "https://localhost:8080/",
          "height": 300
        },
        "id": "xn4gXgShBx1H",
        "outputId": "1d1e743d-748d-4cea-84bc-52c01474e97e"
      },
      "execution_count": null,
      "outputs": [
        {
          "output_type": "execute_result",
          "data": {
            "text/plain": [
              "            Price  Temperature     Population         Export   Consumption\n",
              "count  255.000000   255.000000     255.000000     255.000000  2.550000e+02\n",
              "mean     4.436824    53.361020  311480.792157  169999.337255  2.129599e+06\n",
              "std      2.166380    15.121109   15109.102746  149526.131155  4.746990e+05\n",
              "min      1.630000    29.640000  283960.000000   23637.000000  1.368369e+06\n",
              "25%      2.850000    39.415000  298285.500000   64652.000000  1.743224e+06\n",
              "50%      3.870000    53.240000  312605.000000  119470.000000  2.069773e+06\n",
              "75%      5.560000    68.070000  325652.000000  235171.500000  2.434400e+06\n",
              "max     13.420000    76.770000  332812.000000  637564.000000  3.583251e+06"
            ],
            "text/html": [
              "\n",
              "  <div id=\"df-a630df85-4be0-464b-b654-f9b6732e3194\">\n",
              "    <div class=\"colab-df-container\">\n",
              "      <div>\n",
              "<style scoped>\n",
              "    .dataframe tbody tr th:only-of-type {\n",
              "        vertical-align: middle;\n",
              "    }\n",
              "\n",
              "    .dataframe tbody tr th {\n",
              "        vertical-align: top;\n",
              "    }\n",
              "\n",
              "    .dataframe thead th {\n",
              "        text-align: right;\n",
              "    }\n",
              "</style>\n",
              "<table border=\"1\" class=\"dataframe\">\n",
              "  <thead>\n",
              "    <tr style=\"text-align: right;\">\n",
              "      <th></th>\n",
              "      <th>Price</th>\n",
              "      <th>Temperature</th>\n",
              "      <th>Population</th>\n",
              "      <th>Export</th>\n",
              "      <th>Consumption</th>\n",
              "    </tr>\n",
              "  </thead>\n",
              "  <tbody>\n",
              "    <tr>\n",
              "      <th>count</th>\n",
              "      <td>255.000000</td>\n",
              "      <td>255.000000</td>\n",
              "      <td>255.000000</td>\n",
              "      <td>255.000000</td>\n",
              "      <td>2.550000e+02</td>\n",
              "    </tr>\n",
              "    <tr>\n",
              "      <th>mean</th>\n",
              "      <td>4.436824</td>\n",
              "      <td>53.361020</td>\n",
              "      <td>311480.792157</td>\n",
              "      <td>169999.337255</td>\n",
              "      <td>2.129599e+06</td>\n",
              "    </tr>\n",
              "    <tr>\n",
              "      <th>std</th>\n",
              "      <td>2.166380</td>\n",
              "      <td>15.121109</td>\n",
              "      <td>15109.102746</td>\n",
              "      <td>149526.131155</td>\n",
              "      <td>4.746990e+05</td>\n",
              "    </tr>\n",
              "    <tr>\n",
              "      <th>min</th>\n",
              "      <td>1.630000</td>\n",
              "      <td>29.640000</td>\n",
              "      <td>283960.000000</td>\n",
              "      <td>23637.000000</td>\n",
              "      <td>1.368369e+06</td>\n",
              "    </tr>\n",
              "    <tr>\n",
              "      <th>25%</th>\n",
              "      <td>2.850000</td>\n",
              "      <td>39.415000</td>\n",
              "      <td>298285.500000</td>\n",
              "      <td>64652.000000</td>\n",
              "      <td>1.743224e+06</td>\n",
              "    </tr>\n",
              "    <tr>\n",
              "      <th>50%</th>\n",
              "      <td>3.870000</td>\n",
              "      <td>53.240000</td>\n",
              "      <td>312605.000000</td>\n",
              "      <td>119470.000000</td>\n",
              "      <td>2.069773e+06</td>\n",
              "    </tr>\n",
              "    <tr>\n",
              "      <th>75%</th>\n",
              "      <td>5.560000</td>\n",
              "      <td>68.070000</td>\n",
              "      <td>325652.000000</td>\n",
              "      <td>235171.500000</td>\n",
              "      <td>2.434400e+06</td>\n",
              "    </tr>\n",
              "    <tr>\n",
              "      <th>max</th>\n",
              "      <td>13.420000</td>\n",
              "      <td>76.770000</td>\n",
              "      <td>332812.000000</td>\n",
              "      <td>637564.000000</td>\n",
              "      <td>3.583251e+06</td>\n",
              "    </tr>\n",
              "  </tbody>\n",
              "</table>\n",
              "</div>\n",
              "      <button class=\"colab-df-convert\" onclick=\"convertToInteractive('df-a630df85-4be0-464b-b654-f9b6732e3194')\"\n",
              "              title=\"Convert this dataframe to an interactive table.\"\n",
              "              style=\"display:none;\">\n",
              "        \n",
              "  <svg xmlns=\"http://www.w3.org/2000/svg\" height=\"24px\"viewBox=\"0 0 24 24\"\n",
              "       width=\"24px\">\n",
              "    <path d=\"M0 0h24v24H0V0z\" fill=\"none\"/>\n",
              "    <path d=\"M18.56 5.44l.94 2.06.94-2.06 2.06-.94-2.06-.94-.94-2.06-.94 2.06-2.06.94zm-11 1L8.5 8.5l.94-2.06 2.06-.94-2.06-.94L8.5 2.5l-.94 2.06-2.06.94zm10 10l.94 2.06.94-2.06 2.06-.94-2.06-.94-.94-2.06-.94 2.06-2.06.94z\"/><path d=\"M17.41 7.96l-1.37-1.37c-.4-.4-.92-.59-1.43-.59-.52 0-1.04.2-1.43.59L10.3 9.45l-7.72 7.72c-.78.78-.78 2.05 0 2.83L4 21.41c.39.39.9.59 1.41.59.51 0 1.02-.2 1.41-.59l7.78-7.78 2.81-2.81c.8-.78.8-2.07 0-2.86zM5.41 20L4 18.59l7.72-7.72 1.47 1.35L5.41 20z\"/>\n",
              "  </svg>\n",
              "      </button>\n",
              "      \n",
              "  <style>\n",
              "    .colab-df-container {\n",
              "      display:flex;\n",
              "      flex-wrap:wrap;\n",
              "      gap: 12px;\n",
              "    }\n",
              "\n",
              "    .colab-df-convert {\n",
              "      background-color: #E8F0FE;\n",
              "      border: none;\n",
              "      border-radius: 50%;\n",
              "      cursor: pointer;\n",
              "      display: none;\n",
              "      fill: #1967D2;\n",
              "      height: 32px;\n",
              "      padding: 0 0 0 0;\n",
              "      width: 32px;\n",
              "    }\n",
              "\n",
              "    .colab-df-convert:hover {\n",
              "      background-color: #E2EBFA;\n",
              "      box-shadow: 0px 1px 2px rgba(60, 64, 67, 0.3), 0px 1px 3px 1px rgba(60, 64, 67, 0.15);\n",
              "      fill: #174EA6;\n",
              "    }\n",
              "\n",
              "    [theme=dark] .colab-df-convert {\n",
              "      background-color: #3B4455;\n",
              "      fill: #D2E3FC;\n",
              "    }\n",
              "\n",
              "    [theme=dark] .colab-df-convert:hover {\n",
              "      background-color: #434B5C;\n",
              "      box-shadow: 0px 1px 3px 1px rgba(0, 0, 0, 0.15);\n",
              "      filter: drop-shadow(0px 1px 2px rgba(0, 0, 0, 0.3));\n",
              "      fill: #FFFFFF;\n",
              "    }\n",
              "  </style>\n",
              "\n",
              "      <script>\n",
              "        const buttonEl =\n",
              "          document.querySelector('#df-a630df85-4be0-464b-b654-f9b6732e3194 button.colab-df-convert');\n",
              "        buttonEl.style.display =\n",
              "          google.colab.kernel.accessAllowed ? 'block' : 'none';\n",
              "\n",
              "        async function convertToInteractive(key) {\n",
              "          const element = document.querySelector('#df-a630df85-4be0-464b-b654-f9b6732e3194');\n",
              "          const dataTable =\n",
              "            await google.colab.kernel.invokeFunction('convertToInteractive',\n",
              "                                                     [key], {});\n",
              "          if (!dataTable) return;\n",
              "\n",
              "          const docLinkHtml = 'Like what you see? Visit the ' +\n",
              "            '<a target=\"_blank\" href=https://colab.research.google.com/notebooks/data_table.ipynb>data table notebook</a>'\n",
              "            + ' to learn more about interactive tables.';\n",
              "          element.innerHTML = '';\n",
              "          dataTable['output_type'] = 'display_data';\n",
              "          await google.colab.output.renderOutput(dataTable, element);\n",
              "          const docLink = document.createElement('div');\n",
              "          docLink.innerHTML = docLinkHtml;\n",
              "          element.appendChild(docLink);\n",
              "        }\n",
              "      </script>\n",
              "    </div>\n",
              "  </div>\n",
              "  "
            ]
          },
          "metadata": {},
          "execution_count": 180
        }
      ]
    },
    {
      "cell_type": "code",
      "source": [
        "train_size = 231\n",
        "test_size = 24\n",
        "train, test = df.iloc[0:train_size], df.iloc[219:len(df)]\n",
        "print(len(train), len(test))"
      ],
      "metadata": {
        "colab": {
          "base_uri": "https://localhost:8080/"
        },
        "id": "tdUJCW5mB4ly",
        "outputId": "0ee51a9f-f29f-43b8-e886-b2a42373e369"
      },
      "execution_count": null,
      "outputs": [
        {
          "output_type": "stream",
          "name": "stdout",
          "text": [
            "231 36\n"
          ]
        }
      ]
    },
    {
      "cell_type": "code",
      "source": [
        "test"
      ],
      "metadata": {
        "colab": {
          "base_uri": "https://localhost:8080/",
          "height": 1000
        },
        "id": "zKfgch_GPScu",
        "outputId": "ca29d842-3007-4157-f563-e1bd289b976d"
      },
      "execution_count": null,
      "outputs": [
        {
          "output_type": "execute_result",
          "data": {
            "text/plain": [
              "            Price  Temperature  Population  Export  Consumption\n",
              "Date                                                           \n",
              "2019-04-15   2.65        52.84      330103  338213      2212386\n",
              "2019-05-15   2.64        59.49      330240  368568      2133985\n",
              "2019-06-15   2.40        68.72      330393  360226      2119341\n",
              "2019-07-15   2.37        74.62      330553  393400      2393904\n",
              "2019-08-15   2.22        73.74      330729  384983      2433924\n",
              "2019-09-15   2.56        68.43      330904  394511      2206252\n",
              "2019-10-15   2.33        52.05      331066  425775      2306544\n",
              "2019-11-15   2.65        41.11      331213  441944      2783754\n",
              "2019-12-15   2.22        36.43      331345  481757      3170717\n",
              "2020-01-15   2.02        35.55      331443  510444      3299777\n",
              "2020-02-15   1.91        36.18      331525  454245      3041481\n",
              "2020-03-15   1.79        46.08      331633  497437      2707481\n",
              "2020-04-15   1.74        50.88      331680  420767      2240544\n",
              "2020-05-15   1.75        60.91      331678  395472      2067048\n",
              "2020-06-15   1.63        70.29      331718  338486      2130675\n",
              "2020-07-15   1.77        75.65      331777  349167      2489307\n",
              "2020-08-15   2.30        74.71      331839  359159      2401321\n",
              "2020-09-15   1.92        65.91      331907  395424      2171842\n",
              "2020-10-15   2.39        54.28      331971  481621      2320028\n",
              "2020-11-15   2.61        46.31      331996  528210      2434877\n",
              "2020-12-15   2.59        35.71      331968  553176      3167833\n",
              "2021-01-15   2.71        34.57      331943  563515      3292364\n",
              "2021-02-15   5.35        30.60      331950  424004      3041816\n",
              "2021-03-15   2.62        45.52      331953  595411      2615684\n",
              "2021-04-15   2.66        51.87      331963  564333      2241193\n",
              "2021-05-15   2.91        60.35      332008  578056      2093551\n",
              "2021-06-15   3.26        72.59      332092  539165      2217251\n",
              "2021-07-15   3.84        75.42      332192  566046      2386084\n",
              "2021-08-15   4.07        73.98      332295  563572      2410273\n",
              "2021-09-15   5.16        67.80      332403  535583      2110967\n",
              "2021-10-15   5.51        56.97      332513  545055      2237715\n",
              "2021-11-15   5.05        45.07      332598  556982      2659971\n",
              "2021-12-15   3.76        39.36      332640  620886      2979653\n",
              "2022-01-15   4.38        31.17      332684  610102      3583251\n",
              "2022-02-15   4.69        33.69      332750  545563      3039770\n",
              "2022-03-15   4.90        44.08      332812  637564      2764353"
            ],
            "text/html": [
              "\n",
              "  <div id=\"df-24a9721b-92b6-4cb5-9450-e4705a264942\">\n",
              "    <div class=\"colab-df-container\">\n",
              "      <div>\n",
              "<style scoped>\n",
              "    .dataframe tbody tr th:only-of-type {\n",
              "        vertical-align: middle;\n",
              "    }\n",
              "\n",
              "    .dataframe tbody tr th {\n",
              "        vertical-align: top;\n",
              "    }\n",
              "\n",
              "    .dataframe thead th {\n",
              "        text-align: right;\n",
              "    }\n",
              "</style>\n",
              "<table border=\"1\" class=\"dataframe\">\n",
              "  <thead>\n",
              "    <tr style=\"text-align: right;\">\n",
              "      <th></th>\n",
              "      <th>Price</th>\n",
              "      <th>Temperature</th>\n",
              "      <th>Population</th>\n",
              "      <th>Export</th>\n",
              "      <th>Consumption</th>\n",
              "    </tr>\n",
              "    <tr>\n",
              "      <th>Date</th>\n",
              "      <th></th>\n",
              "      <th></th>\n",
              "      <th></th>\n",
              "      <th></th>\n",
              "      <th></th>\n",
              "    </tr>\n",
              "  </thead>\n",
              "  <tbody>\n",
              "    <tr>\n",
              "      <th>2019-04-15</th>\n",
              "      <td>2.65</td>\n",
              "      <td>52.84</td>\n",
              "      <td>330103</td>\n",
              "      <td>338213</td>\n",
              "      <td>2212386</td>\n",
              "    </tr>\n",
              "    <tr>\n",
              "      <th>2019-05-15</th>\n",
              "      <td>2.64</td>\n",
              "      <td>59.49</td>\n",
              "      <td>330240</td>\n",
              "      <td>368568</td>\n",
              "      <td>2133985</td>\n",
              "    </tr>\n",
              "    <tr>\n",
              "      <th>2019-06-15</th>\n",
              "      <td>2.40</td>\n",
              "      <td>68.72</td>\n",
              "      <td>330393</td>\n",
              "      <td>360226</td>\n",
              "      <td>2119341</td>\n",
              "    </tr>\n",
              "    <tr>\n",
              "      <th>2019-07-15</th>\n",
              "      <td>2.37</td>\n",
              "      <td>74.62</td>\n",
              "      <td>330553</td>\n",
              "      <td>393400</td>\n",
              "      <td>2393904</td>\n",
              "    </tr>\n",
              "    <tr>\n",
              "      <th>2019-08-15</th>\n",
              "      <td>2.22</td>\n",
              "      <td>73.74</td>\n",
              "      <td>330729</td>\n",
              "      <td>384983</td>\n",
              "      <td>2433924</td>\n",
              "    </tr>\n",
              "    <tr>\n",
              "      <th>2019-09-15</th>\n",
              "      <td>2.56</td>\n",
              "      <td>68.43</td>\n",
              "      <td>330904</td>\n",
              "      <td>394511</td>\n",
              "      <td>2206252</td>\n",
              "    </tr>\n",
              "    <tr>\n",
              "      <th>2019-10-15</th>\n",
              "      <td>2.33</td>\n",
              "      <td>52.05</td>\n",
              "      <td>331066</td>\n",
              "      <td>425775</td>\n",
              "      <td>2306544</td>\n",
              "    </tr>\n",
              "    <tr>\n",
              "      <th>2019-11-15</th>\n",
              "      <td>2.65</td>\n",
              "      <td>41.11</td>\n",
              "      <td>331213</td>\n",
              "      <td>441944</td>\n",
              "      <td>2783754</td>\n",
              "    </tr>\n",
              "    <tr>\n",
              "      <th>2019-12-15</th>\n",
              "      <td>2.22</td>\n",
              "      <td>36.43</td>\n",
              "      <td>331345</td>\n",
              "      <td>481757</td>\n",
              "      <td>3170717</td>\n",
              "    </tr>\n",
              "    <tr>\n",
              "      <th>2020-01-15</th>\n",
              "      <td>2.02</td>\n",
              "      <td>35.55</td>\n",
              "      <td>331443</td>\n",
              "      <td>510444</td>\n",
              "      <td>3299777</td>\n",
              "    </tr>\n",
              "    <tr>\n",
              "      <th>2020-02-15</th>\n",
              "      <td>1.91</td>\n",
              "      <td>36.18</td>\n",
              "      <td>331525</td>\n",
              "      <td>454245</td>\n",
              "      <td>3041481</td>\n",
              "    </tr>\n",
              "    <tr>\n",
              "      <th>2020-03-15</th>\n",
              "      <td>1.79</td>\n",
              "      <td>46.08</td>\n",
              "      <td>331633</td>\n",
              "      <td>497437</td>\n",
              "      <td>2707481</td>\n",
              "    </tr>\n",
              "    <tr>\n",
              "      <th>2020-04-15</th>\n",
              "      <td>1.74</td>\n",
              "      <td>50.88</td>\n",
              "      <td>331680</td>\n",
              "      <td>420767</td>\n",
              "      <td>2240544</td>\n",
              "    </tr>\n",
              "    <tr>\n",
              "      <th>2020-05-15</th>\n",
              "      <td>1.75</td>\n",
              "      <td>60.91</td>\n",
              "      <td>331678</td>\n",
              "      <td>395472</td>\n",
              "      <td>2067048</td>\n",
              "    </tr>\n",
              "    <tr>\n",
              "      <th>2020-06-15</th>\n",
              "      <td>1.63</td>\n",
              "      <td>70.29</td>\n",
              "      <td>331718</td>\n",
              "      <td>338486</td>\n",
              "      <td>2130675</td>\n",
              "    </tr>\n",
              "    <tr>\n",
              "      <th>2020-07-15</th>\n",
              "      <td>1.77</td>\n",
              "      <td>75.65</td>\n",
              "      <td>331777</td>\n",
              "      <td>349167</td>\n",
              "      <td>2489307</td>\n",
              "    </tr>\n",
              "    <tr>\n",
              "      <th>2020-08-15</th>\n",
              "      <td>2.30</td>\n",
              "      <td>74.71</td>\n",
              "      <td>331839</td>\n",
              "      <td>359159</td>\n",
              "      <td>2401321</td>\n",
              "    </tr>\n",
              "    <tr>\n",
              "      <th>2020-09-15</th>\n",
              "      <td>1.92</td>\n",
              "      <td>65.91</td>\n",
              "      <td>331907</td>\n",
              "      <td>395424</td>\n",
              "      <td>2171842</td>\n",
              "    </tr>\n",
              "    <tr>\n",
              "      <th>2020-10-15</th>\n",
              "      <td>2.39</td>\n",
              "      <td>54.28</td>\n",
              "      <td>331971</td>\n",
              "      <td>481621</td>\n",
              "      <td>2320028</td>\n",
              "    </tr>\n",
              "    <tr>\n",
              "      <th>2020-11-15</th>\n",
              "      <td>2.61</td>\n",
              "      <td>46.31</td>\n",
              "      <td>331996</td>\n",
              "      <td>528210</td>\n",
              "      <td>2434877</td>\n",
              "    </tr>\n",
              "    <tr>\n",
              "      <th>2020-12-15</th>\n",
              "      <td>2.59</td>\n",
              "      <td>35.71</td>\n",
              "      <td>331968</td>\n",
              "      <td>553176</td>\n",
              "      <td>3167833</td>\n",
              "    </tr>\n",
              "    <tr>\n",
              "      <th>2021-01-15</th>\n",
              "      <td>2.71</td>\n",
              "      <td>34.57</td>\n",
              "      <td>331943</td>\n",
              "      <td>563515</td>\n",
              "      <td>3292364</td>\n",
              "    </tr>\n",
              "    <tr>\n",
              "      <th>2021-02-15</th>\n",
              "      <td>5.35</td>\n",
              "      <td>30.60</td>\n",
              "      <td>331950</td>\n",
              "      <td>424004</td>\n",
              "      <td>3041816</td>\n",
              "    </tr>\n",
              "    <tr>\n",
              "      <th>2021-03-15</th>\n",
              "      <td>2.62</td>\n",
              "      <td>45.52</td>\n",
              "      <td>331953</td>\n",
              "      <td>595411</td>\n",
              "      <td>2615684</td>\n",
              "    </tr>\n",
              "    <tr>\n",
              "      <th>2021-04-15</th>\n",
              "      <td>2.66</td>\n",
              "      <td>51.87</td>\n",
              "      <td>331963</td>\n",
              "      <td>564333</td>\n",
              "      <td>2241193</td>\n",
              "    </tr>\n",
              "    <tr>\n",
              "      <th>2021-05-15</th>\n",
              "      <td>2.91</td>\n",
              "      <td>60.35</td>\n",
              "      <td>332008</td>\n",
              "      <td>578056</td>\n",
              "      <td>2093551</td>\n",
              "    </tr>\n",
              "    <tr>\n",
              "      <th>2021-06-15</th>\n",
              "      <td>3.26</td>\n",
              "      <td>72.59</td>\n",
              "      <td>332092</td>\n",
              "      <td>539165</td>\n",
              "      <td>2217251</td>\n",
              "    </tr>\n",
              "    <tr>\n",
              "      <th>2021-07-15</th>\n",
              "      <td>3.84</td>\n",
              "      <td>75.42</td>\n",
              "      <td>332192</td>\n",
              "      <td>566046</td>\n",
              "      <td>2386084</td>\n",
              "    </tr>\n",
              "    <tr>\n",
              "      <th>2021-08-15</th>\n",
              "      <td>4.07</td>\n",
              "      <td>73.98</td>\n",
              "      <td>332295</td>\n",
              "      <td>563572</td>\n",
              "      <td>2410273</td>\n",
              "    </tr>\n",
              "    <tr>\n",
              "      <th>2021-09-15</th>\n",
              "      <td>5.16</td>\n",
              "      <td>67.80</td>\n",
              "      <td>332403</td>\n",
              "      <td>535583</td>\n",
              "      <td>2110967</td>\n",
              "    </tr>\n",
              "    <tr>\n",
              "      <th>2021-10-15</th>\n",
              "      <td>5.51</td>\n",
              "      <td>56.97</td>\n",
              "      <td>332513</td>\n",
              "      <td>545055</td>\n",
              "      <td>2237715</td>\n",
              "    </tr>\n",
              "    <tr>\n",
              "      <th>2021-11-15</th>\n",
              "      <td>5.05</td>\n",
              "      <td>45.07</td>\n",
              "      <td>332598</td>\n",
              "      <td>556982</td>\n",
              "      <td>2659971</td>\n",
              "    </tr>\n",
              "    <tr>\n",
              "      <th>2021-12-15</th>\n",
              "      <td>3.76</td>\n",
              "      <td>39.36</td>\n",
              "      <td>332640</td>\n",
              "      <td>620886</td>\n",
              "      <td>2979653</td>\n",
              "    </tr>\n",
              "    <tr>\n",
              "      <th>2022-01-15</th>\n",
              "      <td>4.38</td>\n",
              "      <td>31.17</td>\n",
              "      <td>332684</td>\n",
              "      <td>610102</td>\n",
              "      <td>3583251</td>\n",
              "    </tr>\n",
              "    <tr>\n",
              "      <th>2022-02-15</th>\n",
              "      <td>4.69</td>\n",
              "      <td>33.69</td>\n",
              "      <td>332750</td>\n",
              "      <td>545563</td>\n",
              "      <td>3039770</td>\n",
              "    </tr>\n",
              "    <tr>\n",
              "      <th>2022-03-15</th>\n",
              "      <td>4.90</td>\n",
              "      <td>44.08</td>\n",
              "      <td>332812</td>\n",
              "      <td>637564</td>\n",
              "      <td>2764353</td>\n",
              "    </tr>\n",
              "  </tbody>\n",
              "</table>\n",
              "</div>\n",
              "      <button class=\"colab-df-convert\" onclick=\"convertToInteractive('df-24a9721b-92b6-4cb5-9450-e4705a264942')\"\n",
              "              title=\"Convert this dataframe to an interactive table.\"\n",
              "              style=\"display:none;\">\n",
              "        \n",
              "  <svg xmlns=\"http://www.w3.org/2000/svg\" height=\"24px\"viewBox=\"0 0 24 24\"\n",
              "       width=\"24px\">\n",
              "    <path d=\"M0 0h24v24H0V0z\" fill=\"none\"/>\n",
              "    <path d=\"M18.56 5.44l.94 2.06.94-2.06 2.06-.94-2.06-.94-.94-2.06-.94 2.06-2.06.94zm-11 1L8.5 8.5l.94-2.06 2.06-.94-2.06-.94L8.5 2.5l-.94 2.06-2.06.94zm10 10l.94 2.06.94-2.06 2.06-.94-2.06-.94-.94-2.06-.94 2.06-2.06.94z\"/><path d=\"M17.41 7.96l-1.37-1.37c-.4-.4-.92-.59-1.43-.59-.52 0-1.04.2-1.43.59L10.3 9.45l-7.72 7.72c-.78.78-.78 2.05 0 2.83L4 21.41c.39.39.9.59 1.41.59.51 0 1.02-.2 1.41-.59l7.78-7.78 2.81-2.81c.8-.78.8-2.07 0-2.86zM5.41 20L4 18.59l7.72-7.72 1.47 1.35L5.41 20z\"/>\n",
              "  </svg>\n",
              "      </button>\n",
              "      \n",
              "  <style>\n",
              "    .colab-df-container {\n",
              "      display:flex;\n",
              "      flex-wrap:wrap;\n",
              "      gap: 12px;\n",
              "    }\n",
              "\n",
              "    .colab-df-convert {\n",
              "      background-color: #E8F0FE;\n",
              "      border: none;\n",
              "      border-radius: 50%;\n",
              "      cursor: pointer;\n",
              "      display: none;\n",
              "      fill: #1967D2;\n",
              "      height: 32px;\n",
              "      padding: 0 0 0 0;\n",
              "      width: 32px;\n",
              "    }\n",
              "\n",
              "    .colab-df-convert:hover {\n",
              "      background-color: #E2EBFA;\n",
              "      box-shadow: 0px 1px 2px rgba(60, 64, 67, 0.3), 0px 1px 3px 1px rgba(60, 64, 67, 0.15);\n",
              "      fill: #174EA6;\n",
              "    }\n",
              "\n",
              "    [theme=dark] .colab-df-convert {\n",
              "      background-color: #3B4455;\n",
              "      fill: #D2E3FC;\n",
              "    }\n",
              "\n",
              "    [theme=dark] .colab-df-convert:hover {\n",
              "      background-color: #434B5C;\n",
              "      box-shadow: 0px 1px 3px 1px rgba(0, 0, 0, 0.15);\n",
              "      filter: drop-shadow(0px 1px 2px rgba(0, 0, 0, 0.3));\n",
              "      fill: #FFFFFF;\n",
              "    }\n",
              "  </style>\n",
              "\n",
              "      <script>\n",
              "        const buttonEl =\n",
              "          document.querySelector('#df-24a9721b-92b6-4cb5-9450-e4705a264942 button.colab-df-convert');\n",
              "        buttonEl.style.display =\n",
              "          google.colab.kernel.accessAllowed ? 'block' : 'none';\n",
              "\n",
              "        async function convertToInteractive(key) {\n",
              "          const element = document.querySelector('#df-24a9721b-92b6-4cb5-9450-e4705a264942');\n",
              "          const dataTable =\n",
              "            await google.colab.kernel.invokeFunction('convertToInteractive',\n",
              "                                                     [key], {});\n",
              "          if (!dataTable) return;\n",
              "\n",
              "          const docLinkHtml = 'Like what you see? Visit the ' +\n",
              "            '<a target=\"_blank\" href=https://colab.research.google.com/notebooks/data_table.ipynb>data table notebook</a>'\n",
              "            + ' to learn more about interactive tables.';\n",
              "          element.innerHTML = '';\n",
              "          dataTable['output_type'] = 'display_data';\n",
              "          await google.colab.output.renderOutput(dataTable, element);\n",
              "          const docLink = document.createElement('div');\n",
              "          docLink.innerHTML = docLinkHtml;\n",
              "          element.appendChild(docLink);\n",
              "        }\n",
              "      </script>\n",
              "    </div>\n",
              "  </div>\n",
              "  "
            ]
          },
          "metadata": {},
          "execution_count": 182
        }
      ]
    },
    {
      "cell_type": "code",
      "source": [
        "df.info()"
      ],
      "metadata": {
        "colab": {
          "base_uri": "https://localhost:8080/"
        },
        "id": "tXZtd2pi-YCG",
        "outputId": "68f96783-ea4d-4675-e8cf-508dfddeeff6"
      },
      "execution_count": null,
      "outputs": [
        {
          "output_type": "stream",
          "name": "stdout",
          "text": [
            "<class 'pandas.core.frame.DataFrame'>\n",
            "DatetimeIndex: 255 entries, 2001-01-15 to 2022-03-15\n",
            "Data columns (total 5 columns):\n",
            " #   Column       Non-Null Count  Dtype  \n",
            "---  ------       --------------  -----  \n",
            " 0   Price        255 non-null    float64\n",
            " 1   Temperature  255 non-null    float64\n",
            " 2   Population   255 non-null    int64  \n",
            " 3   Export       255 non-null    int64  \n",
            " 4   Consumption  255 non-null    int64  \n",
            "dtypes: float64(2), int64(3)\n",
            "memory usage: 12.0 KB\n"
          ]
        }
      ]
    },
    {
      "cell_type": "code",
      "source": [
        "df.columns"
      ],
      "metadata": {
        "colab": {
          "base_uri": "https://localhost:8080/"
        },
        "id": "lK468MDECW0V",
        "outputId": "d28f5c62-3a2f-45fb-8335-7ea470ba2555"
      },
      "execution_count": null,
      "outputs": [
        {
          "output_type": "execute_result",
          "data": {
            "text/plain": [
              "Index(['Price', 'Temperature', 'Population', 'Export', 'Consumption'], dtype='object')"
            ]
          },
          "metadata": {},
          "execution_count": 184
        }
      ]
    },
    {
      "cell_type": "code",
      "source": [
        "f_columns = ['Price', 'Temperature', 'Population', 'Export']\n",
        "\n",
        "f_transformer = MinMaxScaler()\n",
        "cnt_transformer = MinMaxScaler()\n",
        "\n",
        "f_transformer = f_transformer.fit(train[f_columns].to_numpy())\n",
        "cnt_transformer = cnt_transformer.fit(train[['Consumption']])\n",
        "\n",
        "train.loc[:, f_columns] = f_transformer.transform(train[f_columns].to_numpy())\n",
        "train['Consumption'] = cnt_transformer.transform(train[['Consumption']])\n",
        "\n",
        "test.loc[:, f_columns] = f_transformer.transform(test[f_columns].to_numpy())\n",
        "test['Consumption'] = cnt_transformer.transform(test[['Consumption']])"
      ],
      "metadata": {
        "colab": {
          "base_uri": "https://localhost:8080/"
        },
        "id": "wMtNMneFCWvt",
        "outputId": "81dbcca3-d4c8-40da-f1c3-45c21fc2ec1f"
      },
      "execution_count": null,
      "outputs": [
        {
          "output_type": "stream",
          "name": "stderr",
          "text": [
            "/usr/local/lib/python3.7/dist-packages/pandas/core/indexing.py:1835: SettingWithCopyWarning: \n",
            "A value is trying to be set on a copy of a slice from a DataFrame.\n",
            "Try using .loc[row_indexer,col_indexer] = value instead\n",
            "\n",
            "See the caveats in the documentation: https://pandas.pydata.org/pandas-docs/stable/user_guide/indexing.html#returning-a-view-versus-a-copy\n",
            "  self._setitem_single_column(loc, value[:, i].tolist(), pi)\n",
            "/usr/local/lib/python3.7/dist-packages/ipykernel_launcher.py:10: SettingWithCopyWarning: \n",
            "A value is trying to be set on a copy of a slice from a DataFrame.\n",
            "Try using .loc[row_indexer,col_indexer] = value instead\n",
            "\n",
            "See the caveats in the documentation: https://pandas.pydata.org/pandas-docs/stable/user_guide/indexing.html#returning-a-view-versus-a-copy\n",
            "  # Remove the CWD from sys.path while we load stuff.\n",
            "/usr/local/lib/python3.7/dist-packages/pandas/core/indexing.py:1835: SettingWithCopyWarning: \n",
            "A value is trying to be set on a copy of a slice from a DataFrame.\n",
            "Try using .loc[row_indexer,col_indexer] = value instead\n",
            "\n",
            "See the caveats in the documentation: https://pandas.pydata.org/pandas-docs/stable/user_guide/indexing.html#returning-a-view-versus-a-copy\n",
            "  self._setitem_single_column(loc, value[:, i].tolist(), pi)\n",
            "/usr/local/lib/python3.7/dist-packages/ipykernel_launcher.py:13: SettingWithCopyWarning: \n",
            "A value is trying to be set on a copy of a slice from a DataFrame.\n",
            "Try using .loc[row_indexer,col_indexer] = value instead\n",
            "\n",
            "See the caveats in the documentation: https://pandas.pydata.org/pandas-docs/stable/user_guide/indexing.html#returning-a-view-versus-a-copy\n",
            "  del sys.path[0]\n"
          ]
        }
      ]
    },
    {
      "cell_type": "code",
      "source": [
        "def create_dataset(X, y, time_steps=1):\n",
        "    Xs, ys = [], []\n",
        "    for i in range(len(X) - time_steps):\n",
        "        v = X.iloc[i:(i + time_steps)].values\n",
        "        Xs.append(v)\n",
        "        ys.append(y.iloc[i + time_steps])\n",
        "    return np.array(Xs), np.array(ys)"
      ],
      "metadata": {
        "id": "c1BgFE_jCWkl"
      },
      "execution_count": null,
      "outputs": []
    },
    {
      "cell_type": "code",
      "source": [
        "time_steps = 24\n",
        "\n",
        "# reshape to [samples, time_steps, n_features]\n",
        "\n",
        "X_train, y_train = create_dataset(train, train.Consumption, time_steps)\n",
        "X_test, y_test = create_dataset(test, test.Consumption, time_steps)\n",
        "\n",
        "print(X_train.shape, y_train.shape)"
      ],
      "metadata": {
        "colab": {
          "base_uri": "https://localhost:8080/"
        },
        "id": "FOuq_35sCWgJ",
        "outputId": "76cfbacd-481e-487c-9b03-671203196af6"
      },
      "execution_count": null,
      "outputs": [
        {
          "output_type": "stream",
          "name": "stdout",
          "text": [
            "(207, 24, 5) (207,)\n"
          ]
        }
      ]
    },
    {
      "cell_type": "code",
      "source": [
        "print(X_test.shape, y_test.shape)"
      ],
      "metadata": {
        "colab": {
          "base_uri": "https://localhost:8080/"
        },
        "id": "c2vqq5LlJ3St",
        "outputId": "739d3317-8c71-4000-a024-896787f86dc9"
      },
      "execution_count": null,
      "outputs": [
        {
          "output_type": "stream",
          "name": "stdout",
          "text": [
            "(12, 24, 5) (12,)\n"
          ]
        }
      ]
    },
    {
      "cell_type": "code",
      "source": [
        "y_train"
      ],
      "metadata": {
        "colab": {
          "base_uri": "https://localhost:8080/"
        },
        "id": "z0419NoYTnmR",
        "outputId": "9d00c6a4-8ae7-43a0-fea3-2e3569746b67"
      },
      "execution_count": null,
      "outputs": [
        {
          "output_type": "execute_result",
          "data": {
            "text/plain": [
              "array([0.64796664, 0.55057533, 0.40349904, 0.18247725, 0.07117353,\n",
              "       0.        , 0.11290008, 0.13775303, 0.02927381, 0.08989593,\n",
              "       0.1873957 , 0.43546653, 0.63594728, 0.55581967, 0.35631122,\n",
              "       0.18327543, 0.09955286, 0.05608889, 0.10533612, 0.10194544,\n",
              "       0.05534276, 0.09185854, 0.20157612, 0.46663048, 0.58050968,\n",
              "       0.42541124, 0.40731775, 0.17340448, 0.07502385, 0.08062179,\n",
              "       0.15479104, 0.15892201, 0.02632673, 0.02911476, 0.14350224,\n",
              "       0.46596411, 0.38760942, 0.37744858, 0.36868906, 0.15206527,\n",
              "       0.07681573, 0.08877235, 0.18987195, 0.18644285, 0.0455759 ,\n",
              "       0.1341785 , 0.1931026 , 0.36694532, 0.53855111, 0.58300733,\n",
              "       0.36989338, 0.2148465 , 0.09276129, 0.09088672, 0.1417911 ,\n",
              "       0.25670486, 0.10803611, 0.12618213, 0.22673891, 0.50137091,\n",
              "       0.66422447, 0.55208608, 0.44251539, 0.22155294, 0.10117937,\n",
              "       0.11473137, 0.16550734, 0.15299866, 0.04501849, 0.13009082,\n",
              "       0.24347972, 0.50163746, 0.66215485, 0.46896956, 0.39025591,\n",
              "       0.18138918, 0.06597054, 0.07756284, 0.14087424, 0.17903939,\n",
              "       0.10049257, 0.1450198 , 0.19835374, 0.54646479, 0.70110213,\n",
              "       0.54115625, 0.37674185, 0.15732225, 0.12106669, 0.13674862,\n",
              "       0.22250676, 0.24833348, 0.13090018, 0.14425032, 0.29423381,\n",
              "       0.65453738, 0.73945552, 0.52727107, 0.41933468, 0.22211521,\n",
              "       0.14544589, 0.14055176, 0.25397034, 0.25458709, 0.13972488,\n",
              "       0.18292668, 0.32272598, 0.57079146, 0.67502735, 0.55074022,\n",
              "       0.36936612, 0.2843974 , 0.24585723, 0.24319226, 0.34116092,\n",
              "       0.31151112, 0.21345005, 0.25911107, 0.38886092, 0.55232247,\n",
              "       0.73466207, 0.58308612, 0.56068899, 0.2913952 , 0.18682515,\n",
              "       0.18217909, 0.27139065, 0.27190088, 0.19387986, 0.24241695,\n",
              "       0.46136717, 0.7551107 , 0.89290848, 0.66776057, 0.57857965,\n",
              "       0.28858382, 0.21491605, 0.18336298, 0.24935054, 0.27466459,\n",
              "       0.21446321, 0.26481456, 0.48112074, 0.63756747, 0.84954763,\n",
              "       0.75722458, 0.59484429, 0.31107677, 0.23822761, 0.25853809,\n",
              "       0.34015943, 0.33287028, 0.25923413, 0.30105115, 0.42840452,\n",
              "       0.59330679, 0.8382209 , 0.62448095, 0.48052587, 0.34800696,\n",
              "       0.29058826, 0.30754261, 0.39799303, 0.40857654, 0.28181025,\n",
              "       0.27084248, 0.38477713, 0.72857627, 0.75170446, 0.47270412,\n",
              "       0.56177025, 0.27416895, 0.2546975 , 0.26366229, 0.37609494,\n",
              "       0.35283446, 0.26853842, 0.32254991, 0.48099281, 0.83545816,\n",
              "       0.95945053, 0.65291525, 0.69474005, 0.4776965 , 0.33398462,\n",
              "       0.3379366 , 0.47781226, 0.45987248, 0.38313214, 0.44626211,\n",
              "       0.6554557 , 0.79338237, 1.        , 0.80292062, 0.75850867,\n",
              "       0.41052748, 0.37239346, 0.36527066, 0.49881733, 0.51828294,\n",
              "       0.40754392, 0.45632567, 0.68843926, 0.87665697, 0.93943139,\n",
              "       0.81379695, 0.65134029])"
            ]
          },
          "metadata": {},
          "execution_count": 189
        }
      ]
    },
    {
      "cell_type": "code",
      "source": [
        "model = tf.keras.Sequential()\n",
        "model.add(tf.keras.layers.LSTM(20,activation='ReLU', input_shape=(X_train.shape[1], X_train.shape[2]),return_sequences=True))\n",
        "#model.add(tf.keras.layers.LeakyReLU(alpha=0.5))\n",
        "#model.add(tf.keras.layers.Dropout(0.2))\n",
        "#model.add(tf.keras.layers.LSTM(10,input_shape=(X_train.shape[1], X_train.shape[2]), return_sequences=True))\n",
        "#model.add(tf.keras.layers.Dropout(0.1))\n",
        "model.add(tf.keras.layers.LSTM(40,input_shape=(X_train.shape[1], X_train.shape[2]), return_sequences=False))\n",
        "#model.add(tf.keras.layers.Dropout(0.2))\n",
        "model.add(tf.keras.layers.Dense(1))\n",
        "model.compile(loss='mean_squared_error', optimizer='adam')"
      ],
      "metadata": {
        "id": "g6tytSdVDRKY"
      },
      "execution_count": null,
      "outputs": []
    },
    {
      "cell_type": "code",
      "source": [
        "history = model.fit(X_train, y_train,\n",
        "                              epochs=50,\n",
        "                              batch_size=1,\n",
        "                              shuffle=False)\n"
      ],
      "metadata": {
        "colab": {
          "base_uri": "https://localhost:8080/"
        },
        "id": "rg2RmhRhDQpk",
        "outputId": "41bb7572-71a8-4ae8-da81-999075e4cc61"
      },
      "execution_count": null,
      "outputs": [
        {
          "output_type": "stream",
          "name": "stdout",
          "text": [
            "Epoch 1/50\n",
            "207/207 [==============================] - 7s 19ms/step - loss: 0.0166\n",
            "Epoch 2/50\n",
            "207/207 [==============================] - 3s 15ms/step - loss: 0.0102\n",
            "Epoch 3/50\n",
            "207/207 [==============================] - 2s 11ms/step - loss: 0.0089\n",
            "Epoch 4/50\n",
            "207/207 [==============================] - 2s 11ms/step - loss: 0.0070\n",
            "Epoch 5/50\n",
            "207/207 [==============================] - 2s 11ms/step - loss: 0.0064\n",
            "Epoch 6/50\n",
            "207/207 [==============================] - 2s 11ms/step - loss: 0.0077\n",
            "Epoch 7/50\n",
            "207/207 [==============================] - 2s 11ms/step - loss: 0.0061\n",
            "Epoch 8/50\n",
            "207/207 [==============================] - 2s 11ms/step - loss: 0.0059\n",
            "Epoch 9/50\n",
            "207/207 [==============================] - 2s 11ms/step - loss: 0.0056\n",
            "Epoch 10/50\n",
            "207/207 [==============================] - 2s 11ms/step - loss: 0.0054\n",
            "Epoch 11/50\n",
            "207/207 [==============================] - 2s 11ms/step - loss: 0.0053\n",
            "Epoch 12/50\n",
            "207/207 [==============================] - 2s 10ms/step - loss: 0.0052\n",
            "Epoch 13/50\n",
            "207/207 [==============================] - 2s 11ms/step - loss: 0.0050\n",
            "Epoch 14/50\n",
            "207/207 [==============================] - 2s 10ms/step - loss: 0.0049\n",
            "Epoch 15/50\n",
            "207/207 [==============================] - 2s 11ms/step - loss: 0.0048\n",
            "Epoch 16/50\n",
            "207/207 [==============================] - 2s 11ms/step - loss: 0.0047\n",
            "Epoch 17/50\n",
            "207/207 [==============================] - 2s 11ms/step - loss: 0.0047\n",
            "Epoch 18/50\n",
            "207/207 [==============================] - 2s 10ms/step - loss: 0.0046\n",
            "Epoch 19/50\n",
            "207/207 [==============================] - 2s 11ms/step - loss: 0.0046\n",
            "Epoch 20/50\n",
            "207/207 [==============================] - 2s 11ms/step - loss: 0.0046\n",
            "Epoch 21/50\n",
            "207/207 [==============================] - 2s 10ms/step - loss: 0.0046\n",
            "Epoch 22/50\n",
            "207/207 [==============================] - 2s 11ms/step - loss: 0.0046\n",
            "Epoch 23/50\n",
            "207/207 [==============================] - 2s 10ms/step - loss: 0.0045\n",
            "Epoch 24/50\n",
            "207/207 [==============================] - 2s 10ms/step - loss: 0.0045\n",
            "Epoch 25/50\n",
            "207/207 [==============================] - 2s 10ms/step - loss: 0.0045\n",
            "Epoch 26/50\n",
            "207/207 [==============================] - 2s 10ms/step - loss: 0.0044\n",
            "Epoch 27/50\n",
            "207/207 [==============================] - 2s 11ms/step - loss: 0.0044\n",
            "Epoch 28/50\n",
            "207/207 [==============================] - 2s 11ms/step - loss: 0.0043\n",
            "Epoch 29/50\n",
            "207/207 [==============================] - 2s 10ms/step - loss: 0.0042\n",
            "Epoch 30/50\n",
            "207/207 [==============================] - 2s 11ms/step - loss: 0.0042\n",
            "Epoch 31/50\n",
            "207/207 [==============================] - 2s 11ms/step - loss: 0.0041\n",
            "Epoch 32/50\n",
            "207/207 [==============================] - 2s 11ms/step - loss: 0.0040\n",
            "Epoch 33/50\n",
            "207/207 [==============================] - 3s 13ms/step - loss: 0.0040\n",
            "Epoch 34/50\n",
            "207/207 [==============================] - 3s 14ms/step - loss: 0.0039\n",
            "Epoch 35/50\n",
            "207/207 [==============================] - 2s 11ms/step - loss: 0.0038\n",
            "Epoch 36/50\n",
            "207/207 [==============================] - 2s 11ms/step - loss: 0.0038\n",
            "Epoch 37/50\n",
            "207/207 [==============================] - 2s 10ms/step - loss: 0.0039\n",
            "Epoch 38/50\n",
            "207/207 [==============================] - 2s 10ms/step - loss: 0.0038\n",
            "Epoch 39/50\n",
            "207/207 [==============================] - 2s 10ms/step - loss: 0.0039\n",
            "Epoch 40/50\n",
            "207/207 [==============================] - 2s 11ms/step - loss: 0.0038\n",
            "Epoch 41/50\n",
            "207/207 [==============================] - 2s 11ms/step - loss: 0.0038\n",
            "Epoch 42/50\n",
            "207/207 [==============================] - 2s 11ms/step - loss: 0.0036\n",
            "Epoch 43/50\n",
            "207/207 [==============================] - 2s 11ms/step - loss: 0.0038\n",
            "Epoch 44/50\n",
            "207/207 [==============================] - 2s 11ms/step - loss: 0.0038\n",
            "Epoch 45/50\n",
            "207/207 [==============================] - 2s 11ms/step - loss: 0.0036\n",
            "Epoch 46/50\n",
            "207/207 [==============================] - 2s 11ms/step - loss: 0.0034\n",
            "Epoch 47/50\n",
            "207/207 [==============================] - 2s 11ms/step - loss: 0.0035\n",
            "Epoch 48/50\n",
            "207/207 [==============================] - 3s 12ms/step - loss: 0.0032\n",
            "Epoch 49/50\n",
            "207/207 [==============================] - 2s 11ms/step - loss: 0.0036\n",
            "Epoch 50/50\n",
            "207/207 [==============================] - 2s 10ms/step - loss: 0.0033\n"
          ]
        }
      ]
    },
    {
      "cell_type": "code",
      "source": [
        "y_pred = model.predict(X_test)\n",
        "y_pred"
      ],
      "metadata": {
        "colab": {
          "base_uri": "https://localhost:8080/"
        },
        "id": "gGN5lJyXEWQG",
        "outputId": "833e1d7f-d1c3-462c-c50c-cf4d8ce31ff6"
      },
      "execution_count": null,
      "outputs": [
        {
          "output_type": "execute_result",
          "data": {
            "text/plain": [
              "array([[0.4464561 ],\n",
              "       [0.35763508],\n",
              "       [0.39167184],\n",
              "       [0.47663546],\n",
              "       [0.5333561 ],\n",
              "       [0.5212579 ],\n",
              "       [0.4671389 ],\n",
              "       [0.5183498 ],\n",
              "       [0.7187573 ],\n",
              "       [0.80863315],\n",
              "       [0.77804637],\n",
              "       [0.69786286]], dtype=float32)"
            ]
          },
          "metadata": {},
          "execution_count": 201
        }
      ]
    },
    {
      "cell_type": "code",
      "source": [
        "y_train_inv = cnt_transformer.inverse_transform(y_train.reshape(1, -1))\n",
        "y_test_inv = cnt_transformer.inverse_transform(y_test.reshape(1, -1))\n",
        "y_pred_inv = cnt_transformer.inverse_transform(y_pred)"
      ],
      "metadata": {
        "id": "Q-14cq4RDNJk"
      },
      "execution_count": null,
      "outputs": []
    },
    {
      "cell_type": "code",
      "source": [
        "actual= pd.DataFrame(y_test_inv.reshape(-1,1),columns=['actual'])\n",
        "prediction = pd.DataFrame(y_pred_inv,columns=['prediction'])"
      ],
      "metadata": {
        "id": "zggy6xalSDaC"
      },
      "execution_count": null,
      "outputs": []
    },
    {
      "cell_type": "code",
      "source": [
        "prediction\n"
      ],
      "metadata": {
        "colab": {
          "base_uri": "https://localhost:8080/",
          "height": 425
        },
        "id": "n_RLQT96SIk4",
        "outputId": "4acd85f4-e8b1-4a59-f981-bb6932d82adc"
      },
      "execution_count": null,
      "outputs": [
        {
          "output_type": "execute_result",
          "data": {
            "text/plain": [
              "    prediction\n",
              "0   2286252.75\n",
              "1   2103642.75\n",
              "2   2173620.00\n",
              "3   2348299.75\n",
              "4   2464913.50\n",
              "5   2440040.25\n",
              "6   2328775.25\n",
              "7   2434061.50\n",
              "8   2846086.00\n",
              "9   3030864.50\n",
              "10  2967980.25\n",
              "11  2803128.50"
            ],
            "text/html": [
              "\n",
              "  <div id=\"df-c18d5789-7194-40ba-a2f6-3627cad75eaa\">\n",
              "    <div class=\"colab-df-container\">\n",
              "      <div>\n",
              "<style scoped>\n",
              "    .dataframe tbody tr th:only-of-type {\n",
              "        vertical-align: middle;\n",
              "    }\n",
              "\n",
              "    .dataframe tbody tr th {\n",
              "        vertical-align: top;\n",
              "    }\n",
              "\n",
              "    .dataframe thead th {\n",
              "        text-align: right;\n",
              "    }\n",
              "</style>\n",
              "<table border=\"1\" class=\"dataframe\">\n",
              "  <thead>\n",
              "    <tr style=\"text-align: right;\">\n",
              "      <th></th>\n",
              "      <th>prediction</th>\n",
              "    </tr>\n",
              "  </thead>\n",
              "  <tbody>\n",
              "    <tr>\n",
              "      <th>0</th>\n",
              "      <td>2286252.75</td>\n",
              "    </tr>\n",
              "    <tr>\n",
              "      <th>1</th>\n",
              "      <td>2103642.75</td>\n",
              "    </tr>\n",
              "    <tr>\n",
              "      <th>2</th>\n",
              "      <td>2173620.00</td>\n",
              "    </tr>\n",
              "    <tr>\n",
              "      <th>3</th>\n",
              "      <td>2348299.75</td>\n",
              "    </tr>\n",
              "    <tr>\n",
              "      <th>4</th>\n",
              "      <td>2464913.50</td>\n",
              "    </tr>\n",
              "    <tr>\n",
              "      <th>5</th>\n",
              "      <td>2440040.25</td>\n",
              "    </tr>\n",
              "    <tr>\n",
              "      <th>6</th>\n",
              "      <td>2328775.25</td>\n",
              "    </tr>\n",
              "    <tr>\n",
              "      <th>7</th>\n",
              "      <td>2434061.50</td>\n",
              "    </tr>\n",
              "    <tr>\n",
              "      <th>8</th>\n",
              "      <td>2846086.00</td>\n",
              "    </tr>\n",
              "    <tr>\n",
              "      <th>9</th>\n",
              "      <td>3030864.50</td>\n",
              "    </tr>\n",
              "    <tr>\n",
              "      <th>10</th>\n",
              "      <td>2967980.25</td>\n",
              "    </tr>\n",
              "    <tr>\n",
              "      <th>11</th>\n",
              "      <td>2803128.50</td>\n",
              "    </tr>\n",
              "  </tbody>\n",
              "</table>\n",
              "</div>\n",
              "      <button class=\"colab-df-convert\" onclick=\"convertToInteractive('df-c18d5789-7194-40ba-a2f6-3627cad75eaa')\"\n",
              "              title=\"Convert this dataframe to an interactive table.\"\n",
              "              style=\"display:none;\">\n",
              "        \n",
              "  <svg xmlns=\"http://www.w3.org/2000/svg\" height=\"24px\"viewBox=\"0 0 24 24\"\n",
              "       width=\"24px\">\n",
              "    <path d=\"M0 0h24v24H0V0z\" fill=\"none\"/>\n",
              "    <path d=\"M18.56 5.44l.94 2.06.94-2.06 2.06-.94-2.06-.94-.94-2.06-.94 2.06-2.06.94zm-11 1L8.5 8.5l.94-2.06 2.06-.94-2.06-.94L8.5 2.5l-.94 2.06-2.06.94zm10 10l.94 2.06.94-2.06 2.06-.94-2.06-.94-.94-2.06-.94 2.06-2.06.94z\"/><path d=\"M17.41 7.96l-1.37-1.37c-.4-.4-.92-.59-1.43-.59-.52 0-1.04.2-1.43.59L10.3 9.45l-7.72 7.72c-.78.78-.78 2.05 0 2.83L4 21.41c.39.39.9.59 1.41.59.51 0 1.02-.2 1.41-.59l7.78-7.78 2.81-2.81c.8-.78.8-2.07 0-2.86zM5.41 20L4 18.59l7.72-7.72 1.47 1.35L5.41 20z\"/>\n",
              "  </svg>\n",
              "      </button>\n",
              "      \n",
              "  <style>\n",
              "    .colab-df-container {\n",
              "      display:flex;\n",
              "      flex-wrap:wrap;\n",
              "      gap: 12px;\n",
              "    }\n",
              "\n",
              "    .colab-df-convert {\n",
              "      background-color: #E8F0FE;\n",
              "      border: none;\n",
              "      border-radius: 50%;\n",
              "      cursor: pointer;\n",
              "      display: none;\n",
              "      fill: #1967D2;\n",
              "      height: 32px;\n",
              "      padding: 0 0 0 0;\n",
              "      width: 32px;\n",
              "    }\n",
              "\n",
              "    .colab-df-convert:hover {\n",
              "      background-color: #E2EBFA;\n",
              "      box-shadow: 0px 1px 2px rgba(60, 64, 67, 0.3), 0px 1px 3px 1px rgba(60, 64, 67, 0.15);\n",
              "      fill: #174EA6;\n",
              "    }\n",
              "\n",
              "    [theme=dark] .colab-df-convert {\n",
              "      background-color: #3B4455;\n",
              "      fill: #D2E3FC;\n",
              "    }\n",
              "\n",
              "    [theme=dark] .colab-df-convert:hover {\n",
              "      background-color: #434B5C;\n",
              "      box-shadow: 0px 1px 3px 1px rgba(0, 0, 0, 0.15);\n",
              "      filter: drop-shadow(0px 1px 2px rgba(0, 0, 0, 0.3));\n",
              "      fill: #FFFFFF;\n",
              "    }\n",
              "  </style>\n",
              "\n",
              "      <script>\n",
              "        const buttonEl =\n",
              "          document.querySelector('#df-c18d5789-7194-40ba-a2f6-3627cad75eaa button.colab-df-convert');\n",
              "        buttonEl.style.display =\n",
              "          google.colab.kernel.accessAllowed ? 'block' : 'none';\n",
              "\n",
              "        async function convertToInteractive(key) {\n",
              "          const element = document.querySelector('#df-c18d5789-7194-40ba-a2f6-3627cad75eaa');\n",
              "          const dataTable =\n",
              "            await google.colab.kernel.invokeFunction('convertToInteractive',\n",
              "                                                     [key], {});\n",
              "          if (!dataTable) return;\n",
              "\n",
              "          const docLinkHtml = 'Like what you see? Visit the ' +\n",
              "            '<a target=\"_blank\" href=https://colab.research.google.com/notebooks/data_table.ipynb>data table notebook</a>'\n",
              "            + ' to learn more about interactive tables.';\n",
              "          element.innerHTML = '';\n",
              "          dataTable['output_type'] = 'display_data';\n",
              "          await google.colab.output.renderOutput(dataTable, element);\n",
              "          const docLink = document.createElement('div');\n",
              "          docLink.innerHTML = docLinkHtml;\n",
              "          element.appendChild(docLink);\n",
              "        }\n",
              "      </script>\n",
              "    </div>\n",
              "  </div>\n",
              "  "
            ]
          },
          "metadata": {},
          "execution_count": 204
        }
      ]
    },
    {
      "cell_type": "code",
      "source": [
        "result =pd.concat([actual,prediction],axis=1).set_index(test.iloc[24:,:].index)\n",
        "result"
      ],
      "metadata": {
        "colab": {
          "base_uri": "https://localhost:8080/",
          "height": 457
        },
        "id": "9keXYPBqSY0I",
        "outputId": "5c9102e9-51ef-44a0-f78a-7bf6382bdcb5"
      },
      "execution_count": null,
      "outputs": [
        {
          "output_type": "execute_result",
          "data": {
            "text/plain": [
              "               actual  prediction\n",
              "Date                             \n",
              "2021-04-15  2241193.0  2286252.75\n",
              "2021-05-15  2093551.0  2103642.75\n",
              "2021-06-15  2217251.0  2173620.00\n",
              "2021-07-15  2386084.0  2348299.75\n",
              "2021-08-15  2410273.0  2464913.50\n",
              "2021-09-15  2110967.0  2440040.25\n",
              "2021-10-15  2237715.0  2328775.25\n",
              "2021-11-15  2659971.0  2434061.50\n",
              "2021-12-15  2979653.0  2846086.00\n",
              "2022-01-15  3583251.0  3030864.50\n",
              "2022-02-15  3039770.0  2967980.25\n",
              "2022-03-15  2764353.0  2803128.50"
            ],
            "text/html": [
              "\n",
              "  <div id=\"df-a282c381-46a3-46a8-8846-e0624c584cdc\">\n",
              "    <div class=\"colab-df-container\">\n",
              "      <div>\n",
              "<style scoped>\n",
              "    .dataframe tbody tr th:only-of-type {\n",
              "        vertical-align: middle;\n",
              "    }\n",
              "\n",
              "    .dataframe tbody tr th {\n",
              "        vertical-align: top;\n",
              "    }\n",
              "\n",
              "    .dataframe thead th {\n",
              "        text-align: right;\n",
              "    }\n",
              "</style>\n",
              "<table border=\"1\" class=\"dataframe\">\n",
              "  <thead>\n",
              "    <tr style=\"text-align: right;\">\n",
              "      <th></th>\n",
              "      <th>actual</th>\n",
              "      <th>prediction</th>\n",
              "    </tr>\n",
              "    <tr>\n",
              "      <th>Date</th>\n",
              "      <th></th>\n",
              "      <th></th>\n",
              "    </tr>\n",
              "  </thead>\n",
              "  <tbody>\n",
              "    <tr>\n",
              "      <th>2021-04-15</th>\n",
              "      <td>2241193.0</td>\n",
              "      <td>2286252.75</td>\n",
              "    </tr>\n",
              "    <tr>\n",
              "      <th>2021-05-15</th>\n",
              "      <td>2093551.0</td>\n",
              "      <td>2103642.75</td>\n",
              "    </tr>\n",
              "    <tr>\n",
              "      <th>2021-06-15</th>\n",
              "      <td>2217251.0</td>\n",
              "      <td>2173620.00</td>\n",
              "    </tr>\n",
              "    <tr>\n",
              "      <th>2021-07-15</th>\n",
              "      <td>2386084.0</td>\n",
              "      <td>2348299.75</td>\n",
              "    </tr>\n",
              "    <tr>\n",
              "      <th>2021-08-15</th>\n",
              "      <td>2410273.0</td>\n",
              "      <td>2464913.50</td>\n",
              "    </tr>\n",
              "    <tr>\n",
              "      <th>2021-09-15</th>\n",
              "      <td>2110967.0</td>\n",
              "      <td>2440040.25</td>\n",
              "    </tr>\n",
              "    <tr>\n",
              "      <th>2021-10-15</th>\n",
              "      <td>2237715.0</td>\n",
              "      <td>2328775.25</td>\n",
              "    </tr>\n",
              "    <tr>\n",
              "      <th>2021-11-15</th>\n",
              "      <td>2659971.0</td>\n",
              "      <td>2434061.50</td>\n",
              "    </tr>\n",
              "    <tr>\n",
              "      <th>2021-12-15</th>\n",
              "      <td>2979653.0</td>\n",
              "      <td>2846086.00</td>\n",
              "    </tr>\n",
              "    <tr>\n",
              "      <th>2022-01-15</th>\n",
              "      <td>3583251.0</td>\n",
              "      <td>3030864.50</td>\n",
              "    </tr>\n",
              "    <tr>\n",
              "      <th>2022-02-15</th>\n",
              "      <td>3039770.0</td>\n",
              "      <td>2967980.25</td>\n",
              "    </tr>\n",
              "    <tr>\n",
              "      <th>2022-03-15</th>\n",
              "      <td>2764353.0</td>\n",
              "      <td>2803128.50</td>\n",
              "    </tr>\n",
              "  </tbody>\n",
              "</table>\n",
              "</div>\n",
              "      <button class=\"colab-df-convert\" onclick=\"convertToInteractive('df-a282c381-46a3-46a8-8846-e0624c584cdc')\"\n",
              "              title=\"Convert this dataframe to an interactive table.\"\n",
              "              style=\"display:none;\">\n",
              "        \n",
              "  <svg xmlns=\"http://www.w3.org/2000/svg\" height=\"24px\"viewBox=\"0 0 24 24\"\n",
              "       width=\"24px\">\n",
              "    <path d=\"M0 0h24v24H0V0z\" fill=\"none\"/>\n",
              "    <path d=\"M18.56 5.44l.94 2.06.94-2.06 2.06-.94-2.06-.94-.94-2.06-.94 2.06-2.06.94zm-11 1L8.5 8.5l.94-2.06 2.06-.94-2.06-.94L8.5 2.5l-.94 2.06-2.06.94zm10 10l.94 2.06.94-2.06 2.06-.94-2.06-.94-.94-2.06-.94 2.06-2.06.94z\"/><path d=\"M17.41 7.96l-1.37-1.37c-.4-.4-.92-.59-1.43-.59-.52 0-1.04.2-1.43.59L10.3 9.45l-7.72 7.72c-.78.78-.78 2.05 0 2.83L4 21.41c.39.39.9.59 1.41.59.51 0 1.02-.2 1.41-.59l7.78-7.78 2.81-2.81c.8-.78.8-2.07 0-2.86zM5.41 20L4 18.59l7.72-7.72 1.47 1.35L5.41 20z\"/>\n",
              "  </svg>\n",
              "      </button>\n",
              "      \n",
              "  <style>\n",
              "    .colab-df-container {\n",
              "      display:flex;\n",
              "      flex-wrap:wrap;\n",
              "      gap: 12px;\n",
              "    }\n",
              "\n",
              "    .colab-df-convert {\n",
              "      background-color: #E8F0FE;\n",
              "      border: none;\n",
              "      border-radius: 50%;\n",
              "      cursor: pointer;\n",
              "      display: none;\n",
              "      fill: #1967D2;\n",
              "      height: 32px;\n",
              "      padding: 0 0 0 0;\n",
              "      width: 32px;\n",
              "    }\n",
              "\n",
              "    .colab-df-convert:hover {\n",
              "      background-color: #E2EBFA;\n",
              "      box-shadow: 0px 1px 2px rgba(60, 64, 67, 0.3), 0px 1px 3px 1px rgba(60, 64, 67, 0.15);\n",
              "      fill: #174EA6;\n",
              "    }\n",
              "\n",
              "    [theme=dark] .colab-df-convert {\n",
              "      background-color: #3B4455;\n",
              "      fill: #D2E3FC;\n",
              "    }\n",
              "\n",
              "    [theme=dark] .colab-df-convert:hover {\n",
              "      background-color: #434B5C;\n",
              "      box-shadow: 0px 1px 3px 1px rgba(0, 0, 0, 0.15);\n",
              "      filter: drop-shadow(0px 1px 2px rgba(0, 0, 0, 0.3));\n",
              "      fill: #FFFFFF;\n",
              "    }\n",
              "  </style>\n",
              "\n",
              "      <script>\n",
              "        const buttonEl =\n",
              "          document.querySelector('#df-a282c381-46a3-46a8-8846-e0624c584cdc button.colab-df-convert');\n",
              "        buttonEl.style.display =\n",
              "          google.colab.kernel.accessAllowed ? 'block' : 'none';\n",
              "\n",
              "        async function convertToInteractive(key) {\n",
              "          const element = document.querySelector('#df-a282c381-46a3-46a8-8846-e0624c584cdc');\n",
              "          const dataTable =\n",
              "            await google.colab.kernel.invokeFunction('convertToInteractive',\n",
              "                                                     [key], {});\n",
              "          if (!dataTable) return;\n",
              "\n",
              "          const docLinkHtml = 'Like what you see? Visit the ' +\n",
              "            '<a target=\"_blank\" href=https://colab.research.google.com/notebooks/data_table.ipynb>data table notebook</a>'\n",
              "            + ' to learn more about interactive tables.';\n",
              "          element.innerHTML = '';\n",
              "          dataTable['output_type'] = 'display_data';\n",
              "          await google.colab.output.renderOutput(dataTable, element);\n",
              "          const docLink = document.createElement('div');\n",
              "          docLink.innerHTML = docLinkHtml;\n",
              "          element.appendChild(docLink);\n",
              "        }\n",
              "      </script>\n",
              "    </div>\n",
              "  </div>\n",
              "  "
            ]
          },
          "metadata": {},
          "execution_count": 205
        }
      ]
    },
    {
      "cell_type": "code",
      "source": [
        "mean_absolute_percentage_error(y_test_inv.flatten(),y_pred_inv.flatten())"
      ],
      "metadata": {
        "colab": {
          "base_uri": "https://localhost:8080/"
        },
        "id": "91e1MsLJYcFu",
        "outputId": "1e9df99d-bac1-4d9a-f572-a6ef44673b63"
      },
      "execution_count": null,
      "outputs": [
        {
          "output_type": "execute_result",
          "data": {
            "text/plain": [
              "0.05010391325401395"
            ]
          },
          "metadata": {},
          "execution_count": 206
        }
      ]
    },
    {
      "cell_type": "code",
      "source": [
        "result.plot()"
      ],
      "metadata": {
        "colab": {
          "base_uri": "https://localhost:8080/",
          "height": 306
        },
        "id": "_rJKhsHCSdjd",
        "outputId": "d81b85e0-d984-4a63-8dd5-97fc89fb8505"
      },
      "execution_count": null,
      "outputs": [
        {
          "output_type": "execute_result",
          "data": {
            "text/plain": [
              "<matplotlib.axes._subplots.AxesSubplot at 0x7f3704e36c50>"
            ]
          },
          "metadata": {},
          "execution_count": 207
        },
        {
          "output_type": "display_data",
          "data": {
            "text/plain": [
              "<Figure size 432x288 with 1 Axes>"
            ],
            "image/png": "[encoded data removed]"
          },
          "metadata": {
            "needs_background": "light"
          }
        }
      ]
    },
    {
      "cell_type": "code",
      "source": [
        "score = r2_score(y_test_inv.flatten(),y_pred_inv.flatten())\n",
        "score"
      ],
      "metadata": {
        "colab": {
          "base_uri": "https://localhost:8080/"
        },
        "id": "DMRp1hGYox21",
        "outputId": "4499b71e-69a1-426f-a2f3-b21cf5e4d0fe"
      },
      "execution_count": null,
      "outputs": [
        {
          "output_type": "execute_result",
          "data": {
            "text/plain": [
              "0.7801270728783207"
            ]
          },
          "metadata": {},
          "execution_count": 208
        }
      ]
    },
    {
      "cell_type": "code",
      "source": [
        "mean_error = mean_squared_error(y_test_inv.flatten(),y_pred_inv.flatten())\n",
        "mean_error\n"
      ],
      "metadata": {
        "colab": {
          "base_uri": "https://localhost:8080/"
        },
        "id": "lY1tjOVxpMR_",
        "outputId": "054b6197-4190-49e9-e348-0f2f907eb9a8"
      },
      "execution_count": null,
      "outputs": [
        {
          "output_type": "execute_result",
          "data": {
            "text/plain": [
              "42141141174.989624"
            ]
          },
          "metadata": {},
          "execution_count": 209
        }
      ]
    },
    {
      "cell_type": "code",
      "source": [
        "mae = mean_absolute_error(y_test_inv.flatten(),y_pred_inv.flatten())\n",
        "mae"
      ],
      "metadata": {
        "colab": {
          "base_uri": "https://localhost:8080/"
        },
        "id": "Dqxwd4ompGzy",
        "outputId": "fc97341b-d7e4-4cca-c6d5-b9aff156c84a"
      },
      "execution_count": null,
      "outputs": [
        {
          "output_type": "execute_result",
          "data": {
            "text/plain": [
              "136147.4166666667"
            ]
          },
          "metadata": {},
          "execution_count": 210
        }
      ]
    },
    {
      "cell_type": "code",
      "source": [
        "rmse = mean_squared_error(y_test_inv.flatten(),y_pred_inv.flatten(),squared=False)\n",
        "rmse"
      ],
      "metadata": {
        "id": "9nGlsvm9ZhFy",
        "colab": {
          "base_uri": "https://localhost:8080/"
        },
        "outputId": "c025ad5c-1340-48f0-c203-b29b7a36638e"
      },
      "execution_count": null,
      "outputs": [
        {
          "output_type": "execute_result",
          "data": {
            "text/plain": [
              "205283.07571494934"
            ]
          },
          "metadata": {},
          "execution_count": 213
        }
      ]
    },
    {
      "cell_type": "code",
      "source": [],
      "metadata": {
        "id": "7lHh36-hCenF"
      },
      "execution_count": null,
      "outputs": []
    }
  ],
  "metadata": {
    "colab": {
      "toc_visible": true,
      "provenance": []
    },
    "kernelspec": {
      "display_name": "Python 3",
      "name": "python3"
    },
    "language_info": {
      "name": "python"
    }
  },
  "nbformat": 4,
  "nbformat_minor": 0
}
